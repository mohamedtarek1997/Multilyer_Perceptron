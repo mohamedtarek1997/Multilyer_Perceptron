{
 "cells": [
  {
   "cell_type": "code",
   "execution_count": 1,
   "metadata": {},
   "outputs": [],
   "source": [
    "import numpy as np\n",
    "import pandas as pd\n",
    "import matplotlib.pyplot as plt\n",
    "from scipy.optimize import minimize\n",
    "from sklearn.model_selection import train_test_split\n",
    "import time "
   ]
  },
  {
   "cell_type": "code",
   "execution_count": 2,
   "metadata": {},
   "outputs": [
    {
     "data": {
      "text/html": [
       "<div>\n",
       "<style scoped>\n",
       "    .dataframe tbody tr th:only-of-type {\n",
       "        vertical-align: middle;\n",
       "    }\n",
       "\n",
       "    .dataframe tbody tr th {\n",
       "        vertical-align: top;\n",
       "    }\n",
       "\n",
       "    .dataframe thead th {\n",
       "        text-align: right;\n",
       "    }\n",
       "</style>\n",
       "<table border=\"1\" class=\"dataframe\">\n",
       "  <thead>\n",
       "    <tr style=\"text-align: right;\">\n",
       "      <th></th>\n",
       "      <th>X1</th>\n",
       "      <th>X2</th>\n",
       "      <th>Y</th>\n",
       "    </tr>\n",
       "  </thead>\n",
       "  <tbody>\n",
       "    <tr>\n",
       "      <th>0</th>\n",
       "      <td>-0.016816</td>\n",
       "      <td>1.493616</td>\n",
       "      <td>-0.996794</td>\n",
       "    </tr>\n",
       "    <tr>\n",
       "      <th>1</th>\n",
       "      <td>-0.095445</td>\n",
       "      <td>2.742787</td>\n",
       "      <td>-1.169155</td>\n",
       "    </tr>\n",
       "    <tr>\n",
       "      <th>2</th>\n",
       "      <td>-1.900142</td>\n",
       "      <td>0.674756</td>\n",
       "      <td>0.256157</td>\n",
       "    </tr>\n",
       "    <tr>\n",
       "      <th>3</th>\n",
       "      <td>-0.982229</td>\n",
       "      <td>1.464483</td>\n",
       "      <td>0.880567</td>\n",
       "    </tr>\n",
       "    <tr>\n",
       "      <th>4</th>\n",
       "      <td>0.919084</td>\n",
       "      <td>1.495322</td>\n",
       "      <td>-0.863523</td>\n",
       "    </tr>\n",
       "  </tbody>\n",
       "</table>\n",
       "</div>"
      ],
      "text/plain": [
       "         X1        X2         Y\n",
       "0 -0.016816  1.493616 -0.996794\n",
       "1 -0.095445  2.742787 -1.169155\n",
       "2 -1.900142  0.674756  0.256157\n",
       "3 -0.982229  1.464483  0.880567\n",
       "4  0.919084  1.495322 -0.863523"
      ]
     },
     "execution_count": 2,
     "metadata": {},
     "output_type": "execute_result"
    }
   ],
   "source": [
    "columns = ['X1', 'X2', 'Y']\n",
    "df = pd.read_csv('Dataset.csv', names= columns)\n",
    "df.head()"
   ]
  },
  {
   "cell_type": "markdown",
   "metadata": {},
   "source": [
    "### Reading and splitting the data"
   ]
  },
  {
   "cell_type": "code",
   "execution_count": 3,
   "metadata": {},
   "outputs": [],
   "source": [
    "x = df.drop(columns= 'Y')\n",
    "x = x.to_numpy()\n",
    "y = df['Y'].to_numpy()"
   ]
  },
  {
   "cell_type": "code",
   "execution_count": 4,
   "metadata": {},
   "outputs": [],
   "source": [
    "x_train, x_test, y_train, y_test = train_test_split(x, y, test_size= 0.25, random_state=2108602)\n",
    "x_test, x_val, y_test, y_val = train_test_split(x_test, y_test, test_size=0.5, random_state=2108602)"
   ]
  },
  {
   "cell_type": "code",
   "execution_count": 5,
   "metadata": {},
   "outputs": [],
   "source": [
    "train_data = np.hstack((x_train, np.reshape( y_train, (-1, 1) )))"
   ]
  },
  {
   "cell_type": "code",
   "execution_count": 6,
   "metadata": {},
   "outputs": [
    {
     "name": "stdout",
     "output_type": "stream",
     "text": [
      "(31, 2)\n",
      "(187, 2)\n",
      "(32, 2)\n"
     ]
    }
   ],
   "source": [
    "print(x_test.shape)\n",
    "print(x_train.shape)\n",
    "print(x_val.shape)"
   ]
  },
  {
   "cell_type": "markdown",
   "metadata": {},
   "source": [
    "### Input parameters"
   ]
  },
  {
   "cell_type": "code",
   "execution_count": 7,
   "metadata": {},
   "outputs": [],
   "source": [
    "Ns = [3, 5, 7, 9, 12, 15] # number of centers (input parameter)\n",
    "n = x.shape[1] # number of features\n",
    "rhos = [1e-01, 1e-02, 1e-03, 1e-04, 1e-05]"
   ]
  },
  {
   "cell_type": "markdown",
   "metadata": {},
   "source": [
    "### Initial weights and weights matrix formation"
   ]
  },
  {
   "cell_type": "code",
   "execution_count": 8,
   "metadata": {},
   "outputs": [],
   "source": [
    "def init_W(N,n):\n",
    "    W = np.random.random(N*n+N)\n",
    "    c = np.reshape(W[0: N*n], (N, n))\n",
    "    v = np.reshape(W[N*n:], (-1, 1))\n",
    "    return W, c, v"
   ]
  },
  {
   "cell_type": "markdown",
   "metadata": {},
   "source": [
    "### The forward propagation"
   ]
  },
  {
   "cell_type": "code",
   "execution_count": 9,
   "metadata": {},
   "outputs": [],
   "source": [
    "def RBF(x, c, sigma=1):\n",
    "    phi = np.exp(-(np.linalg.norm(x-c)/ sigma)**2)\n",
    "    return phi"
   ]
  },
  {
   "cell_type": "code",
   "execution_count": 10,
   "metadata": {},
   "outputs": [],
   "source": [
    "def y_hat(x, c, v, sigma=1):\n",
    "    phi_mtx = np.zeros((len(x), N))\n",
    "    for i in range(len(x)):\n",
    "        for j in range(N):\n",
    "            phi_mtx[i,j] = RBF(x[i], c[j])\n",
    "    y_h = np.squeeze(np.dot(phi_mtx, v))\n",
    "    return y_h"
   ]
  },
  {
   "cell_type": "markdown",
   "metadata": {},
   "source": [
    "### define the loss function by defining the MSE and the regularized error\n"
   ]
  },
  {
   "cell_type": "code",
   "execution_count": 11,
   "metadata": {},
   "outputs": [],
   "source": [
    "def mse(y_h, y):\n",
    "    return sum((y_h - y)**2)/(2*len(y))"
   ]
  },
  {
   "cell_type": "code",
   "execution_count": 12,
   "metadata": {},
   "outputs": [],
   "source": [
    "def err_fn(W, train_data):\n",
    "    x_train = train_data[:, 0:2]\n",
    "    y_train = train_data[:, 2]\n",
    "    c = np.reshape(W[0: N*n], (N, n))\n",
    "    v = np.reshape(W[N*n:], (-1, 1))\n",
    "    y_h = y_hat(x_train, c, v)\n",
    "    regularization_term = 0.5 * rho * (np.linalg.norm(v) + np.linalg.norm(c))\n",
    "    e_mse = mse(y_h, y_train)\n",
    "    return regularization_term+e_mse\n"
   ]
  },
  {
   "cell_type": "code",
   "execution_count": 13,
   "metadata": {},
   "outputs": [
    {
     "name": "stdout",
     "output_type": "stream",
     "text": [
      "Centers: 3, rho: 0.1, Regularized_Error: 1.067, MSE_Test: 0.432, MSE_Train: 0.976, Variance: 0.544, Time: 1.286848545074463\n",
      "Centers: 3, rho: 0.01, Regularized_Error: 0.875, MSE_Test: 0.266, MSE_Train: 0.838, Variance: 0.572, Time: 3.9706778526306152\n",
      "Centers: 3, rho: 0.001, Regularized_Error: 0.841, MSE_Test: 0.264, MSE_Train: 0.837, Variance: 0.573, Time: 2.503800630569458\n",
      "Centers: 3, rho: 0.0001, Regularized_Error: 0.837, MSE_Test: 0.264, MSE_Train: 0.837, Variance: 0.573, Time: 2.1342155933380127\n",
      "Centers: 3, rho: 1e-05, Regularized_Error: 0.837, MSE_Test: 0.264, MSE_Train: 0.837, Variance: 0.573, Time: 2.2522964477539062\n",
      "Centers: 5, rho: 0.1, Regularized_Error: 1.048, MSE_Test: 0.429, MSE_Train: 0.975, Variance: 0.546, Time: 4.029079437255859\n",
      "Centers: 5, rho: 0.01, Regularized_Error: 0.854, MSE_Test: 0.259, MSE_Train: 0.813, Variance: 0.554, Time: 11.190563440322876\n",
      "Centers: 5, rho: 0.001, Regularized_Error: 0.814, MSE_Test: 0.245, MSE_Train: 0.809, Variance: 0.564, Time: 15.558779001235962\n",
      "Centers: 5, rho: 0.0001, Regularized_Error: 0.809, MSE_Test: 0.244, MSE_Train: 0.809, Variance: 0.565, Time: 17.479626655578613\n",
      "Centers: 5, rho: 1e-05, Regularized_Error: 0.809, MSE_Test: 0.243, MSE_Train: 0.809, Variance: 0.566, Time: 19.0348219871521\n",
      "Centers: 7, rho: 0.1, Regularized_Error: 1.037, MSE_Test: 0.43, MSE_Train: 0.976, Variance: 0.546, Time: 18.201865673065186\n",
      "Centers: 7, rho: 0.01, Regularized_Error: 0.56, MSE_Test: 0.17, MSE_Train: 0.504, Variance: 0.334, Time: 27.220333099365234\n",
      "Centers: 7, rho: 0.001, Regularized_Error: 0.508, MSE_Test: 0.166, MSE_Train: 0.502, Variance: 0.336, Time: 34.831581354141235\n",
      "Centers: 7, rho: 0.0001, Regularized_Error: 0.502, MSE_Test: 0.166, MSE_Train: 0.502, Variance: 0.336, Time: 36.40563654899597\n",
      "Centers: 7, rho: 1e-05, Regularized_Error: 0.502, MSE_Test: 0.166, MSE_Train: 0.502, Variance: 0.336, Time: 35.915422201156616\n",
      "Centers: 9, rho: 0.1, Regularized_Error: 1.03, MSE_Test: 0.427, MSE_Train: 0.975, Variance: 0.548, Time: 30.451448678970337\n",
      "Centers: 9, rho: 0.01, Regularized_Error: 0.558, MSE_Test: 0.169, MSE_Train: 0.504, Variance: 0.335, Time: 48.55350661277771\n",
      "Centers: 9, rho: 0.001, Regularized_Error: 0.508, MSE_Test: 0.167, MSE_Train: 0.501, Variance: 0.334, Time: 88.62704586982727\n",
      "Centers: 9, rho: 0.0001, Regularized_Error: 0.5, MSE_Test: 0.165, MSE_Train: 0.499, Variance: 0.334, Time: 107.61750626564026\n",
      "Centers: 9, rho: 1e-05, Regularized_Error: 0.499, MSE_Test: 0.165, MSE_Train: 0.499, Variance: 0.334, Time: 108.90729856491089\n",
      "Centers: 12, rho: 0.1, Regularized_Error: 1.022, MSE_Test: 0.425, MSE_Train: 0.974, Variance: 0.549, Time: 62.158944606781006\n",
      "Centers: 12, rho: 0.01, Regularized_Error: 0.557, MSE_Test: 0.169, MSE_Train: 0.504, Variance: 0.335, Time: 88.97926831245422\n",
      "Centers: 12, rho: 0.001, Regularized_Error: 0.507, MSE_Test: 0.167, MSE_Train: 0.5, Variance: 0.333, Time: 129.56580901145935\n",
      "Centers: 12, rho: 0.0001, Regularized_Error: 0.501, MSE_Test: 0.165, MSE_Train: 0.5, Variance: 0.335, Time: 95.43372774124146\n",
      "Centers: 12, rho: 1e-05, Regularized_Error: 0.003, MSE_Test: 0.004, MSE_Train: 0.002, Variance: 0.002, Time: 166.04958176612854\n",
      "Centers: 15, rho: 0.1, Regularized_Error: 0.907, MSE_Test: 0.24, MSE_Train: 0.599, Variance: 0.359, Time: 27.86165452003479\n",
      "Centers: 15, rho: 0.01, Regularized_Error: 0.556, MSE_Test: 0.169, MSE_Train: 0.504, Variance: 0.335, Time: 69.89267063140869\n",
      "Centers: 15, rho: 0.001, Regularized_Error: 0.505, MSE_Test: 0.164, MSE_Train: 0.498, Variance: 0.334, Time: 143.2718060016632\n",
      "Centers: 15, rho: 0.0001, Regularized_Error: 0.003, MSE_Test: 0.003, MSE_Train: 0.002, Variance: 0.001, Time: 178.3670687675476\n",
      "Centers: 15, rho: 1e-05, Regularized_Error: 0.003, MSE_Test: 0.003, MSE_Train: 0.003, Variance: 0.0, Time: 210.13707733154297\n"
     ]
    }
   ],
   "source": [
    "err_out = np.zeros(len(Ns)*len(rhos))\n",
    "err_test = np.zeros(len(Ns)*len(rhos)) \n",
    "Weights = np.zeros((len(Ns)*len(rhos), Ns[-1]*n+Ns[-1]))\n",
    "rho_val = np.zeros(len(Ns)*len(rhos))\n",
    "N_val = np.zeros(len(Ns)*len(rhos))\n",
    "mse_test = np.zeros(len(Ns)*len(rhos))\n",
    "mse_train = np.zeros(len(Ns)*len(rhos))\n",
    "variance = np.zeros(len(Ns)*len(rhos))\n",
    "cost_time = np.zeros(len(Ns)*len(rhos))\n",
    "k = 0\n",
    "for N in Ns:\n",
    "    for rho in rhos:\n",
    "        np.random.seed(2108602)\n",
    "        W0 = np.random.random(N*n+N)\n",
    "        Optimization_method = \"L-BFGS-B\"\n",
    "        start = time.time()\n",
    "        res = minimize(err_fn, W0, args=(train_data), method=Optimization_method, tol=1e-7)\n",
    "        cost_time[k] = time.time() - start \n",
    "        err_out[k] = round(res.fun, 3)\n",
    "        Weights[k, 0:N*n+N] = res.x\n",
    "        W = res.x\n",
    "        c = np.reshape(W[0: N*n], (N, n))\n",
    "        v = np.reshape(W[N*n:], (-1, 1))\n",
    "        y_pred_test = y_hat(x_test, c, v)\n",
    "        mse_test[k] = round(mse(y_pred_test, y_test), 3) \n",
    "        y_pred_train = y_hat(x_train, c, v)\n",
    "        mse_train[k] = round(mse(y_pred_train, y_train), 3)\n",
    "        variance[k] = np.abs(round(mse_test[k] - mse_train[k], 3))\n",
    "        rho_val[k] = rho\n",
    "        N_val[k] = N \n",
    "        print(f\"Centers: {N}, rho: {rho}, Regularized_Error: {err_out[k]}, MSE_Test: {mse_test[k]}, MSE_Train: {mse_train[k]}, Variance: {variance[k]}, Time: {cost_time[k]}\") \n",
    "        k = k+1"
   ]
  },
  {
   "cell_type": "code",
   "execution_count": 14,
   "metadata": {},
   "outputs": [],
   "source": [
    "output_df = {\n",
    "    'Rho': rho_val,\n",
    "    'N_Centers': N_val,\n",
    "    'MSE_Test': mse_test,\n",
    "    'MSE_Train': mse_train,\n",
    "    'Variance': variance,\n",
    "    'Regularized_Error': err_out,\n",
    "    'Time': cost_time\n",
    "}"
   ]
  },
  {
   "cell_type": "code",
   "execution_count": 15,
   "metadata": {},
   "outputs": [
    {
     "data": {
      "text/html": [
       "<div>\n",
       "<style scoped>\n",
       "    .dataframe tbody tr th:only-of-type {\n",
       "        vertical-align: middle;\n",
       "    }\n",
       "\n",
       "    .dataframe tbody tr th {\n",
       "        vertical-align: top;\n",
       "    }\n",
       "\n",
       "    .dataframe thead th {\n",
       "        text-align: right;\n",
       "    }\n",
       "</style>\n",
       "<table border=\"1\" class=\"dataframe\">\n",
       "  <thead>\n",
       "    <tr style=\"text-align: right;\">\n",
       "      <th></th>\n",
       "      <th>Rho</th>\n",
       "      <th>N_Centers</th>\n",
       "      <th>MSE_Test</th>\n",
       "      <th>MSE_Train</th>\n",
       "      <th>Variance</th>\n",
       "      <th>Regularized_Error</th>\n",
       "      <th>Time</th>\n",
       "    </tr>\n",
       "  </thead>\n",
       "  <tbody>\n",
       "    <tr>\n",
       "      <th>0</th>\n",
       "      <td>0.10000</td>\n",
       "      <td>3.0</td>\n",
       "      <td>0.432</td>\n",
       "      <td>0.976</td>\n",
       "      <td>0.544</td>\n",
       "      <td>1.067</td>\n",
       "      <td>1.286849</td>\n",
       "    </tr>\n",
       "    <tr>\n",
       "      <th>1</th>\n",
       "      <td>0.01000</td>\n",
       "      <td>3.0</td>\n",
       "      <td>0.266</td>\n",
       "      <td>0.838</td>\n",
       "      <td>0.572</td>\n",
       "      <td>0.875</td>\n",
       "      <td>3.970678</td>\n",
       "    </tr>\n",
       "    <tr>\n",
       "      <th>2</th>\n",
       "      <td>0.00100</td>\n",
       "      <td>3.0</td>\n",
       "      <td>0.264</td>\n",
       "      <td>0.837</td>\n",
       "      <td>0.573</td>\n",
       "      <td>0.841</td>\n",
       "      <td>2.503801</td>\n",
       "    </tr>\n",
       "    <tr>\n",
       "      <th>3</th>\n",
       "      <td>0.00010</td>\n",
       "      <td>3.0</td>\n",
       "      <td>0.264</td>\n",
       "      <td>0.837</td>\n",
       "      <td>0.573</td>\n",
       "      <td>0.837</td>\n",
       "      <td>2.134216</td>\n",
       "    </tr>\n",
       "    <tr>\n",
       "      <th>4</th>\n",
       "      <td>0.00001</td>\n",
       "      <td>3.0</td>\n",
       "      <td>0.264</td>\n",
       "      <td>0.837</td>\n",
       "      <td>0.573</td>\n",
       "      <td>0.837</td>\n",
       "      <td>2.252296</td>\n",
       "    </tr>\n",
       "  </tbody>\n",
       "</table>\n",
       "</div>"
      ],
      "text/plain": [
       "       Rho  N_Centers  MSE_Test  MSE_Train  Variance  Regularized_Error  \\\n",
       "0  0.10000        3.0     0.432      0.976     0.544              1.067   \n",
       "1  0.01000        3.0     0.266      0.838     0.572              0.875   \n",
       "2  0.00100        3.0     0.264      0.837     0.573              0.841   \n",
       "3  0.00010        3.0     0.264      0.837     0.573              0.837   \n",
       "4  0.00001        3.0     0.264      0.837     0.573              0.837   \n",
       "\n",
       "       Time  \n",
       "0  1.286849  \n",
       "1  3.970678  \n",
       "2  2.503801  \n",
       "3  2.134216  \n",
       "4  2.252296  "
      ]
     },
     "execution_count": 15,
     "metadata": {},
     "output_type": "execute_result"
    }
   ],
   "source": [
    "out_df = pd.DataFrame(output_df)\n",
    "out_df.head()"
   ]
  },
  {
   "cell_type": "code",
   "execution_count": 17,
   "metadata": {},
   "outputs": [],
   "source": [
    "directory = 'F:\\Sapienza Courses\\optimization methods for machine learning\\Project_Assignment_1.2' \n",
    "file_path = directory + '\\output_data_1.2.xlsx' \n",
    "out_df.to_excel(file_path, index=False)"
   ]
  },
  {
   "cell_type": "code",
   "execution_count": null,
   "metadata": {},
   "outputs": [],
   "source": [
    "\"\"\"final_W = res.x\n",
    "c = np.reshape(final_W[0: N*n], (N, n))\n",
    "v = np.reshape(final_W[N*n:], (-1, 1))\n",
    "print('Final Centers: ', c)\n",
    "print('Final V ', v)\"\"\""
   ]
  },
  {
   "cell_type": "code",
   "execution_count": null,
   "metadata": {},
   "outputs": [],
   "source": [
    "# The MSE for the test, and training data\n",
    "\"\"\"\n",
    "y_pred_train = y_hat(x_train, c, v)\n",
    "mse_train = mse(y_pred_train, y_train)\n",
    "print('MSE for the training dataset: ', mse_train) \n",
    "y_pred = y_hat(x_test, c, v)\n",
    "mse_test = mse(y_pred, y_test)\n",
    "print('MSE for the test dataset', mse_test)\"\"\""
   ]
  },
  {
   "cell_type": "code",
   "execution_count": null,
   "metadata": {},
   "outputs": [],
   "source": [
    "# Plotting the output\n",
    "\"\"\"\n",
    "from matplotlib import projections\n",
    "from mpl_toolkits.mplot3d import Axes3D\n",
    "fig = plt.figure(dpi=120)\n",
    "x1_vals = np.linspace(-2, 2, 50)\n",
    "x2_vals = np.linspace(-3, 3, 50)\n",
    "x1_mesh, x2_mesh = np.meshgrid(x1_vals, x2_vals)\n",
    "x_mesh = np.column_stack((x1_mesh.flatten(), x2_mesh.flatten()))\n",
    "y = y_hat(x_mesh, c, v)\n",
    "y_mesh = y.reshape(x1_mesh.shape)\n",
    "ax = fig.add_subplot(111, projection='3d')\n",
    "plt.xlabel('X1')\n",
    "plt.ylabel('X2')\n",
    "plt.title('Predicted Values')\n",
    "ax.plot_surface(x1_mesh, x2_mesh, y_mesh, cmap='viridis')\n",
    "plt.show()\n",
    "\"\"\""
   ]
  }
 ],
 "metadata": {
  "kernelspec": {
   "display_name": "Python 3",
   "language": "python",
   "name": "python3"
  },
  "language_info": {
   "codemirror_mode": {
    "name": "ipython",
    "version": 3
   },
   "file_extension": ".py",
   "mimetype": "text/x-python",
   "name": "python",
   "nbconvert_exporter": "python",
   "pygments_lexer": "ipython3",
   "version": "3.10.5"
  }
 },
 "nbformat": 4,
 "nbformat_minor": 2
}
