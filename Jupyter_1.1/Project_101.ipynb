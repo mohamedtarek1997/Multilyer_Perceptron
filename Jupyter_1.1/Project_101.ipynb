{
 "cells": [
  {
   "cell_type": "code",
   "execution_count": null,
   "metadata": {},
   "outputs": [],
   "source": [
    "import numpy as np\n",
    "import matplotlib.pyplot as plt\n",
    "import pandas as pd\n",
    "from sklearn.model_selection import train_test_split\n",
    "from scipy.optimize import minimize\n",
    "import time"
   ]
  },
  {
   "cell_type": "markdown",
   "metadata": {},
   "source": [
    "<img src=\"MLP.png\" style=\"width:700px; height:900\">"
   ]
  },
  {
   "cell_type": "code",
   "execution_count": null,
   "metadata": {},
   "outputs": [],
   "source": [
    "Ns = [5, 7, 9, 11, 13, 15] # number of neurons in the hidden layer\n",
    "n = 2 # number of features"
   ]
  },
  {
   "cell_type": "markdown",
   "metadata": {},
   "source": [
    "# The y_hat function"
   ]
  },
  {
   "cell_type": "markdown",
   "metadata": {},
   "source": [
    "<img src=\"y_hat.png\" style=\"width:700px; height:900\">"
   ]
  },
  {
   "cell_type": "code",
   "execution_count": null,
   "metadata": {},
   "outputs": [],
   "source": [
    "# define the prediction function\n",
    "def y_hat(w, b, v, x):\n",
    "    y_h = np.zeros(len(x))\n",
    "    wb = np.hstack((w,np.reshape(b, (-1, 1))))\n",
    "    for i in range(len(x)):\n",
    "        row = x[i]\n",
    "        dot_product = np.tanh(np.dot(wb, np.reshape(row, (-1, 1))))  # Perform W.X\n",
    "        result = np.dot(np.reshape(dot_product, (1, -1)), np.reshape(v, (-1, 1)))  # Perform (W.X).V\n",
    "        y_h[i] = result\n",
    "    return y_h"
   ]
  },
  {
   "cell_type": "code",
   "execution_count": null,
   "metadata": {},
   "outputs": [],
   "source": [
    "# define the loss function by defining the MSE then the regularized error\n",
    "def mse(y_h, y):\n",
    "    return sum((y_h-y)**2)/len(y)"
   ]
  },
  {
   "cell_type": "code",
   "execution_count": null,
   "metadata": {},
   "outputs": [],
   "source": [
    "# reading the data\n",
    "columns = ['X1', 'X2', 'Y']\n",
    "df = pd.read_csv('Dataset.csv', names= columns) \n",
    "df.head()"
   ]
  },
  {
   "cell_type": "code",
   "execution_count": null,
   "metadata": {},
   "outputs": [],
   "source": [
    "df['ones'] = np.ones(250)"
   ]
  },
  {
   "cell_type": "code",
   "execution_count": null,
   "metadata": {},
   "outputs": [],
   "source": [
    "x = df.drop(columns= \"Y\")\n",
    "x = x.to_numpy()\n",
    "y = df[\"Y\"].to_numpy()"
   ]
  },
  {
   "cell_type": "code",
   "execution_count": null,
   "metadata": {},
   "outputs": [],
   "source": [
    "x_train, x_test, y_train, y_test = train_test_split(x, y, test_size= 0.25, random_state= 2057785) "
   ]
  },
  {
   "cell_type": "code",
   "execution_count": null,
   "metadata": {},
   "outputs": [],
   "source": [
    "train_data = np.hstack((x_train, np.reshape(y_train, (-1, 1))))"
   ]
  },
  {
   "cell_type": "code",
   "execution_count": null,
   "metadata": {},
   "outputs": [],
   "source": [
    "rhos = [1e-05, 1e-04, 1e-03, 1e-02]"
   ]
  },
  {
   "cell_type": "markdown",
   "metadata": {},
   "source": [
    "# The error function"
   ]
  },
  {
   "cell_type": "markdown",
   "metadata": {},
   "source": [
    "<img src=\"E.png\" style=\"width:700px; height:900\">"
   ]
  },
  {
   "cell_type": "code",
   "execution_count": null,
   "metadata": {},
   "outputs": [],
   "source": [
    "# the error function\n",
    "def err_fn(W, train_data):\n",
    "    X_train = train_data[:, 0:3]\n",
    "    Y_train = train_data[:, 3]\n",
    "    w = np.reshape(W[0:n*N],(N,n))\n",
    "    v = np.reshape(W[n*N:n*N+N],(N,1))\n",
    "    b = np.reshape(W[n*N+N:n*N+2*N],(N,1))\n",
    "    y_h = y_hat(w, b, v, X_train) # predicted y (yhat)\n",
    "    e_mse = mse(y_h, Y_train) # mean squared error\n",
    "    regularization_term = 0.5 * rho * (np.linalg.norm(w) ** 2 + np.linalg.norm(v) ** 2 + np.linalg.norm(b) ** 2)\n",
    "    return e_mse + regularization_term  # error function"
   ]
  },
  {
   "cell_type": "code",
   "execution_count": null,
   "metadata": {},
   "outputs": [],
   "source": [
    "# MLP Optimization\n",
    "err_out = np.zeros(len(Ns)*len(rhos))\n",
    "err_test = np.zeros(len(Ns)*len(rhos)) \n",
    "Weights = np.zeros((len(Ns)*len(rhos), Ns[-1]*(Ns[-1]+n-1)))\n",
    "rho_val = np.zeros(len(Ns)*len(rhos))\n",
    "N_val = np.zeros(len(Ns)*len(rhos))\n",
    "mse_test = np.zeros(len(Ns)*len(rhos))\n",
    "mse_train = np.zeros(len(Ns)*len(rhos))\n",
    "variance = np.zeros(len(Ns)*len(rhos))\n",
    "cost_time = np.zeros(len(Ns)*len(rhos))\n",
    "k = 0\n",
    "\n",
    "for N in Ns:\n",
    "    for rho in rhos:\n",
    "        np.random.seed(2108602) \n",
    "        W0 = np.random.random(N*(N+n-1))\n",
    "        Optimization_method = \"L-BFGS-B\"\n",
    "        start = time.time()\n",
    "        res = minimize(err_fn, W0, args=(train_data), method=Optimization_method, tol=1e-7)\n",
    "        cost_time[k] = time.time() - start\n",
    "        err_out[k] = round(res.fun, 3)\n",
    "        Weights[k, 0:N*(N+n-1)] = res.x\n",
    "        W = res.x\n",
    "        w = np.reshape(W[0:n*N],(N,n))\n",
    "        v = np.reshape(W[n*N:n*N+N],(N,1)) \n",
    "        b = np.reshape(W[n*N+N:n*N+2*N],(N,1))\n",
    "        y_pred_test = y_hat(w, b, v, x_test)\n",
    "        mse_test[k] = round(mse(y_pred_test, y_test), 3) \n",
    "        y_pred_train = y_hat(w, b, v, x_train)\n",
    "        mse_train[k] = round(mse(y_pred_train, y_train), 3)\n",
    "        variance[k] = round(mse_test[k] - mse_train[k], 3) \n",
    "        rho_val[k] = rho\n",
    "        N_val[k] = N \n",
    "        print(f\"Nodes: {N}, rho: {rho}, Regularized_Error: {err_out[k]}, MSE_Test: {mse_test[k]}, MSE_Train: {mse_train[k]}, Variance: {variance[k]}, Time: {cost_time[k]}\") \n",
    "        k = k+1"
   ]
  },
  {
   "cell_type": "code",
   "execution_count": null,
   "metadata": {},
   "outputs": [],
   "source": [
    "output_df = {\n",
    "    'Rho': rho_val,\n",
    "    'N_Neurons': N_val,\n",
    "    'MSE_Test': mse_test,\n",
    "    'MSE_Train': mse_train,\n",
    "    'Variance': variance,\n",
    "    'Regularized_Error': err_out,\n",
    "    'Time': cost_time\n",
    "}"
   ]
  },
  {
   "cell_type": "code",
   "execution_count": null,
   "metadata": {},
   "outputs": [],
   "source": [
    "out_df = pd.DataFrame(output_df)\n",
    "out_df.head()"
   ]
  },
  {
   "cell_type": "code",
   "execution_count": null,
   "metadata": {},
   "outputs": [],
   "source": [
    "\n",
    "directory = 'F:\\Sapienza Courses\\optimization methods for machine learning\\Project Assignment_1.1\\Jupyter_1.1' \n",
    "file_path = directory + '\\output_data.xlsx' \n",
    "out_df.to_excel(file_path, index=False) \n"
   ]
  },
  {
   "cell_type": "code",
   "execution_count": null,
   "metadata": {},
   "outputs": [],
   "source": [
    "\"\"\"\n",
    "def plot_error(rhos, a, N):\n",
    "    plt.title(f\"Errors and rhos for {N} eurons\")\n",
    "    plt.xlabel(\"rhos\")\n",
    "    plt.ylabel(\"Errors\")\n",
    "    plt.xlim(0, max(rhos))\n",
    "    plt.ylim(0, max(err_out[a:a+4]))\n",
    "    plt.plot(rhos, err_out[a:a+4])\n",
    "    plt.show() \n",
    "\"\"\""
   ]
  },
  {
   "cell_type": "code",
   "execution_count": null,
   "metadata": {},
   "outputs": [],
   "source": [
    "\"\"\"\n",
    "a = 0\n",
    "for N in Ns:\n",
    "    plot_error(rhos, a, N)\n",
    "    a+=4\n",
    "\"\"\" "
   ]
  },
  {
   "cell_type": "code",
   "execution_count": null,
   "metadata": {},
   "outputs": [],
   "source": [
    "\"\"\"from matplotlib import projections\n",
    "from mpl_toolkits.mplot3d import Axes3D\n",
    "x1_vals = np.linspace(-2, 2, 50)\n",
    "x2_vals = np.linspace(-3, 3, 50)\n",
    "x1_mesh, x2_mesh = np.meshgrid(x1_vals, x2_vals)\n",
    "x_mesh = np.column_stack((x1_mesh.flatten(), x2_mesh.flatten(), np.ones(len(x1_mesh.flatten()))))      \n",
    "y = y_hat(w, b, v, x_mesh)\n",
    "y_mesh = y.reshape(x1_mesh.shape)\n",
    "fig = plt.figure(dpi = 150)\n",
    "ax = plt.gca(projection = '3d')\n",
    "plt.xlabel('X1')\n",
    "plt.ylabel('X2')\n",
    "plt.title('Predicted Values')\n",
    "ax.plot_surface(x1_mesh, x2_mesh, y_mesh, cmap='viridis')\"\"\"\n"
   ]
  }
 ],
 "metadata": {
  "kernelspec": {
   "display_name": "Python 3.10.5 64-bit",
   "language": "python",
   "name": "python3"
  },
  "language_info": {
   "codemirror_mode": {
    "name": "ipython",
    "version": 3
   },
   "file_extension": ".py",
   "mimetype": "text/x-python",
   "name": "python",
   "nbconvert_exporter": "python",
   "pygments_lexer": "ipython3",
   "version": "3.10.5"
  },
  "orig_nbformat": 4,
  "vscode": {
   "interpreter": {
    "hash": "e6b54dec7b98061eaa385d36f1473f6c5d66feebf655e1204bfaca6e4f4f1ac1"
   }
  }
 },
 "nbformat": 4,
 "nbformat_minor": 2
}
